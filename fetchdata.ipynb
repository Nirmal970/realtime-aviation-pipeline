{
 "cells": [
  {
   "cell_type": "code",
   "execution_count": null,
   "id": "56de6cf6-97c6-4fdd-88b5-1c4359d530c5",
   "metadata": {},
   "outputs": [],
   "source": [
    "import requests\n",
    "from azure.storage.blob import BlobServiceClient, BlobClient, ContentSettings\n",
    "import json\n",
    "import datetime\n",
    "import time"
   ]
  },
  {
   "cell_type": "code",
   "execution_count": null,
   "id": "3734a2e1-ef3c-44e7-beed-bff983eadd3c",
   "metadata": {},
   "outputs": [],
   "source": [
    "azure_storage_connection_string = \"your-azure-storage-account-connection-string\"\n",
    "container_name = \"your-container=name\"\n",
    "blob_name = \"opensky_data.json\"\n",
    "opensky_api_url = \"https://opensky-network.org/api/states/all\""
   ]
  },
  {
   "cell_type": "code",
   "execution_count": null,
   "id": "99b3fe28-4d34-4e85-b7ed-30f45ca73664",
   "metadata": {},
   "outputs": [],
   "source": [
    "columns = [\"icao24\", \"callsign\", \"origin_country\", \"time_position\",\n",
    "           \"last_contact\", \"longitude\", \"latitude\", \"baro_altitude\",\n",
    "           \"on_ground\", \"velocity\", \"true_track\", \"vertical_rate\",\n",
    "           \"sensors\", \"geo_altitude\", \"squawk\", \"spi\", \"position_source\"]"
   ]
  },
  {
   "cell_type": "code",
   "execution_count": null,
   "id": "34a113b8-abc2-4cb1-a1b4-67d143610206",
   "metadata": {},
   "outputs": [],
   "source": [
    "def fetch_data_and_upload():\n",
    "    try:\n",
    "        # Fetch data from OpenSky API\n",
    "        response = requests.get(opensky_api_url)\n",
    "        data = response.json()\n",
    "\n",
    "        if \"states\" in data:\n",
    "            states = data[\"states\"]\n",
    "            timestamp = datetime.datetime.utcnow().isoformat()\n",
    "\n",
    "            # Create BlobServiceClient\n",
    "            blob_service_client = BlobServiceClient.from_connection_string(azure_storage_connection_string)\n",
    "\n",
    "            # Upload each record as a separate JSON file\n",
    "            for state in states:\n",
    "                # Prepare data with column names\n",
    "                formatted_state = dict(zip(columns, state))\n",
    "\n",
    "                # Convert data to JSON\n",
    "                data_to_upload = formatted_state\n",
    "                json_data = json.dumps(data_to_upload)\n",
    "\n",
    "                # Generate a unique filename based on timestamp\n",
    "                filename = f\"{timestamp}_{state[0]}.json\"  # Using 'icao24' as part of filename\n",
    "                blob_client = blob_service_client.get_blob_client(container=container_name, blob=filename)\n",
    "\n",
    "                # Upload JSON data to Blob Storage\n",
    "                blob_client.upload_blob(json_data, overwrite=True, content_settings=ContentSettings(content_type='application/json'))\n",
    "\n",
    "                print(f\"Uploaded data to Azure Blob Storage for {state[0]} at {timestamp}\")\n",
    "\n",
    "        else:\n",
    "            print(\"No aircraft data found.\")\n",
    "\n",
    "    except Exception as e:\n",
    "        print(f\"Error fetching or uploading data: {str(e)}\")"
   ]
  },
  {
   "cell_type": "code",
   "execution_count": null,
   "id": "27662e0c-a535-4b6f-a5b4-6bcc61b53846",
   "metadata": {},
   "outputs": [],
   "source": [
    "if __name__ == \"__main__\":\n",
    "    while True:\n",
    "        fetch_data_and_upload()\n",
    "        time.sleep(1)"
   ]
  },
  {
   "cell_type": "code",
   "execution_count": null,
   "id": "4959042f-f00d-41b6-8c39-a7a0a5e5e897",
   "metadata": {},
   "outputs": [],
   "source": []
  },
  {
   "cell_type": "code",
   "execution_count": null,
   "id": "7a9da6d5-2929-4620-a3a5-e250a7510789",
   "metadata": {},
   "outputs": [],
   "source": []
  },
  {
   "cell_type": "code",
   "execution_count": null,
   "id": "cbfde736-71c8-455d-b017-fb67f2c2877d",
   "metadata": {},
   "outputs": [],
   "source": []
  }
 ],
 "metadata": {
  "kernelspec": {
   "display_name": "Python 3 (ipykernel)",
   "language": "python",
   "name": "python3"
  },
  "language_info": {
   "codemirror_mode": {
    "name": "ipython",
    "version": 3
   },
   "file_extension": ".py",
   "mimetype": "text/x-python",
   "name": "python",
   "nbconvert_exporter": "python",
   "pygments_lexer": "ipython3",
   "version": "3.12.4"
  }
 },
 "nbformat": 4,
 "nbformat_minor": 5
}
